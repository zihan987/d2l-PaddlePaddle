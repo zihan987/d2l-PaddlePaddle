{
 "cells": [
  {
   "cell_type": "markdown",
   "metadata": {
    "collapsed": false
   },
   "source": [
    "# 7.6. 残差网络（ResNet）\n",
    ":label:`sec_resnet`\n",
    "\n",
    "随着我们设计越来越深的网络，深刻理解“新添加的层如何提升神经网络的性能”变得至关重要。更重要的是设计网络的能力，在这种网络中，添加层会使网络更具表现力，\n",
    "为了取得质的突破，我们需要一些数学基础知识。\n",
    "\n",
    "\n",
    "## 7.6.1. 函数类\n",
    "\n",
    "首先，假设有一类特定的神经网络结构 $\\mathcal{F}$，它包括学习速率和其他超参数设置。\n",
    "对于所有 $f \\in \\mathcal{F}$，存在一些参数集（例如权重和偏置），这些参数可以通过在合适的数据集上进行训练而获得。\n",
    "现在假设 $f^*$ 是我们真正想要找到的函数，如果是 $f^* \\in \\mathcal{F}$，那我们可以轻而易举的训练得到它，但通常我们不会那么幸运。\n",
    "相反，我们将尝试找到一个函数 $f^*_\\mathcal{F}$，这是我们在 $\\mathcal{F}$ 中的最佳选择。\n",
    "例如，给定一个具有 $\\mathbf{X}$ 特性和 $\\mathbf{y}$ 标签的数据集，我们可以尝试通过解决以下优化问题来找到它：\n",
    "\n",
    "$$f^*_\\mathcal{F} := \\mathop{\\mathrm{argmin}}_f L(\\mathbf{X}, \\mathbf{y}, f) \\text{ subject to } f \\in \\mathcal{F}.$$\n",
    "\n",
    "那么，怎样得到更近似真正 $f^*$ 的函数呢？\n",
    "唯一合理的可能性是，我们需要设计一个更强大的结构 $\\mathcal{F}'$。\n",
    "换句话说，我们预计 $f^*_{\\mathcal{F}'}$ 比 $f^*_{\\mathcal{F}}$ “更近似”。\n",
    "然而，如果 $\\mathcal{F} \\not\\subseteq \\mathcal{F}'$，则无法保证新的体系“更近似”。\n",
    "事实上， $f^*_{\\mathcal{F}'}$ 可能更糟：\n",
    "如 :numref:`fig_functionclasses` 所示，对于非嵌套函数（non-nested function）类，较复杂的函数类并不总是向“真”函数 $f^*$ 靠拢（复杂度由 $\\mathcal{F}_1$ 向 $\\mathcal{F}_6$ 递增）。\n",
    "在 :numref:`fig_functionclasses` 的左边，虽然 $\\mathcal{F}_3$ 比 $\\mathcal{F}_1$ 更接近 $f^*$，但$\\mathcal{F}_6$ 却离的更远了。\n",
    "相反对于 :numref:`fig_functionclasses` 右侧的嵌套函数（nested function）类 $\\mathcal{F}_1 \\subseteq \\ldots \\subseteq \\mathcal{F}_6$，我们可以避免上述问题。\n",
    "\n",
    "![对于非嵌套函数类，较复杂（由较大区域表示）的函数类不能保证更接近“真”函数（ $f^*$ ）。这种现象在嵌套函数类中不会发生。](../img/functionclasses.svg)\n",
    ":label:`fig_functionclasses`\n",
    "\n",
    "因此，只有当较复杂的函数类包含较小的函数类时，我们才能确保提高它们的性能。\n",
    "对于深度神经网络，如果我们能将新添加的层训练成 *恒等映射*（identity function） $f(\\mathbf{x}) = \\mathbf{x}$ ，新模型和原模型将同样有效。\n",
    "同时，由于新模型可能得出更优的解来拟合训练数据集，因此添加层似乎更容易降低训练误差。\n",
    "\n",
    "针对这一问题，何恺明等人提出了*残差网络*（ResNet） :cite:`He.Zhang.Ren.ea.2016`。\n",
    "它在2015年的ImageNet图像识别挑战赛夺魁，并深刻影响了后来的深度神经网络的设计。\n",
    "残差网络的核心思想是：每个附加层都应该更容易地包含原始函数作为其元素之一。\n",
    "于是，*残差块* （residual blocks） 便诞生了，这个设计对如何建立深层神经网络产生了深远的影响。\n",
    "凭借它，ResNet 赢得了 2015 年 ImageNet 大规模视觉识别挑战赛。\n",
    "\n",
    "\n",
    "## (**7.6.2. 残差块**)\n",
    "\n",
    "让我们聚焦于神经网络局部：如图 :numref:`fig_residual_block` 所示，假设我们的原始输入为 $x$ ，而希望学出的理想映射为 $f(\\mathbf{x})$ （作为 :numref:`fig_residual_block` 上方激活函数的输入）。\n",
    ":numref:`fig_residual_block` 左图虚线框中的部分需要直接拟合出该映射 $f(\\mathbf{x})$ ，而右图虚线框中的部分则需要拟合出残差映射 $f(\\mathbf{x}) - \\mathbf{x}$ 。\n",
    "残差映射在现实中往往更容易优化。\n",
    "以本节开头提到的恒等映射作为我们希望学出的理想映射 $f(\\mathbf{x})$ ，我们只需将 :numref:`fig_residual_block` 中右图虚线框内上方的加权运算（如仿射）的权重和偏置参数设成 0，那么 $f(\\mathbf{x})$ 即为恒等映射。\n",
    "实际中，当理想映射 $f(\\mathbf{x})$ 极接近于恒等映射时，残差映射也易于捕捉恒等映射的细微波动。\n",
    ":numref:`fig_residual_block` 右图是 ResNet 的基础结构-- *残差块*（residual block）。\n",
    "在残差块中，输入可通过跨层数据线路更快地向前传播。\n",
    "\n",
    "![一个正常块（左图）和一个残差块（右图）。](../img/residual-block.svg)\n",
    ":label:`fig_residual_block`\n",
    "\n",
    "ResNet 沿用了 VGG 完整的 $3\\times 3$ 卷积层设计。\n",
    "残差块里首先有 2 个有相同输出通道数的 $3\\times 3$ 卷积层。\n",
    "每个卷积层后接一个批量归一化层和 ReLU 激活函数。\n",
    "然后我们通过跨层数据通路，跳过这 2 个卷积运算，将输入直接加在最后的 ReLU 激活函数前。\n",
    "这样的设计要求 2 个卷积层的输出与输入形状一样，从而可以相加。\n",
    "如果想改变通道数，就需要引入一个额外的 $1\\times 1$ 卷积层来将输入变换成需要的形状后再做相加运算。\n",
    "残差块的实现如下：\n"
   ]
  },
  {
   "cell_type": "code",
   "execution_count": 7,
   "metadata": {
    "collapsed": false
   },
   "outputs": [],
   "source": [
    "import paddle\n",
    "import paddle.nn as nn\n",
    "import numpy as np\n",
    "\n",
    "paddle.disable_static()\n",
    "\n",
    "class Residual(nn.Layer):\n",
    "    def __init__(self, num_channels, num_filters, use_1x1conv=False, stride=1):\n",
    "        super(Residual, self).__init__()\n",
    "        self.use_1x1conv = use_1x1conv\n",
    "        model = [\n",
    "            nn.Conv2D(num_channels, num_filters, 3, stride=stride, padding=1),\n",
    "            nn.BatchNorm2D(num_filters),\n",
    "            nn.ReLU(),\n",
    "            nn.Conv2D(num_filters, num_filters, 3, stride=1, padding=1),\n",
    "            nn.BatchNorm2D(num_filters),\n",
    "        ]\n",
    "        self.model = nn.Sequential(*model)\n",
    "        if use_1x1conv:\n",
    "            model_1x1 = [nn.Conv2D(num_channels, num_filters, 1, stride=stride)]\n",
    "            self.model_1x1 = nn.Sequential(*model_1x1)\n",
    "    def forward(self, X):\n",
    "        Y = self.model(X)\n",
    "        if self.use_1x1conv:\n",
    "            X = self.model_1x1(X)\n",
    "        return paddle.nn.functional.relu(X + Y)"
   ]
  },
  {
   "cell_type": "markdown",
   "metadata": {
    "collapsed": false
   },
   "source": [
    "如图 :numref:`fig_resnet_block` 所示，此代码生成两种类型的网络：\n",
    "一种是在 `use_1x1conv=False` 、应用 ReLU 非线性函数之前，将输入添加到输出。\n",
    "另一种是在 `use_1x1conv=True` 时，添加通过 $1 \\times 1$ 卷积调整通道和分辨率。\n",
    "\n",
    "![包含以及不包含 $1 \\times 1$ 卷积层的残差块。](../img/resnet-block.svg)\n",
    ":label:`fig_resnet_block`\n",
    "\n",
    "下面我们来查看[**输入和输出形状一致**]的情况。\n"
   ]
  },
  {
   "cell_type": "code",
   "execution_count": 8,
   "metadata": {
    "collapsed": false
   },
   "outputs": [
    {
     "data": {
      "text/plain": [
       "[4, 3, 6, 6]"
      ]
     },
     "execution_count": 8,
     "metadata": {},
     "output_type": "execute_result"
    }
   ],
   "source": [
    "blk = Residual(3, 3)\n",
    "X = paddle.rand((4, 3, 6, 6))\n",
    "Y = blk(X)\n",
    "Y.shape"
   ]
  },
  {
   "cell_type": "markdown",
   "metadata": {
    "collapsed": false
   },
   "source": [
    "我们也可以在[**增加输出通道数的同时，减半输出的高和宽**]。\n"
   ]
  },
  {
   "cell_type": "code",
   "execution_count": 9,
   "metadata": {
    "collapsed": false
   },
   "outputs": [
    {
     "name": "stdout",
     "output_type": "stream",
     "text": [
      "[4, 6, 3, 3]\n"
     ]
    }
   ],
   "source": [
    "with paddle.fluid.dygraph.guard(paddle.fluid.cpu_places()[0]):\n",
    "    blk = Residual(3, 6, use_1x1conv=True, stride=2)\n",
    "    Y = blk(Y)\n",
    "    print(Y.shape)"
   ]
  },
  {
   "cell_type": "markdown",
   "metadata": {
    "collapsed": false
   },
   "source": [
    "## [**7.6.3. ResNet模型**]\n",
    "\n",
    "ResNet 的前两层跟之前介绍的 GoogLeNet 中的一样：\n",
    "在输出通道数为 64、步幅为 2 的 $7 \\times 7$ 卷积层后，接步幅为 2 的 $3 \\times 3$ 的最大池化层。\n",
    "不同之处在于 ResNet 每个卷积层后增加了批量归一化层。\n"
   ]
  },
  {
   "cell_type": "code",
   "execution_count": 10,
   "metadata": {
    "collapsed": false
   },
   "outputs": [],
   "source": [
    "model = [\n",
    "            nn.Conv2D(1, 64, 7, stride=2, padding=3),\n",
    "            nn.BatchNorm2D(64),\n",
    "            nn.ReLU(),\n",
    "            nn.MaxPool2D(kernel_size=2, stride=2, padding=1)\n",
    "        ]"
   ]
  },
  {
   "cell_type": "markdown",
   "metadata": {
    "collapsed": false
   },
   "source": [
    "GoogLeNet 在后面接了 4 个由Inception块组成的模块。\n",
    "ResNet 则使用 4 个由残差块组成的模块，每个模块使用若干个同样输出通道数的残差块。\n",
    "第一个模块的通道数同输入通道数一致。\n",
    "由于之前已经使用了步幅为 2 的最大池化层，所以无须减小高和宽。\n",
    "之后的每个模块在第一个残差块里将上一个模块的通道数翻倍，并将高和宽减半。\n",
    "\n",
    "下面我们来实现这个模块。注意，我们对第一个模块做了特别处理。\n"
   ]
  },
  {
   "cell_type": "code",
   "execution_count": 11,
   "metadata": {
    "collapsed": false
   },
   "outputs": [],
   "source": [
    "class ResnetBlock(nn.Layer):\n",
    "    def __init__(self, num_channels, num_filters, num_residuals, first_block=False):\n",
    "        super(ResnetBlock, self).__init__()\n",
    "        model = []\n",
    "        for i in range(num_residuals):\n",
    "            if i == 0:\n",
    "                if not first_block:\n",
    "                    model += [Residual(num_channels, num_filters, use_1x1conv=True, stride=2)]\n",
    "                else:\n",
    "                    model += [Residual(num_channels, num_filters)]\n",
    "            else:\n",
    "                model += [Residual(num_filters, num_filters)]\n",
    "        self.model = nn.Sequential(*model)\n",
    "    def forward(self, X):\n",
    "        return self.model(X)"
   ]
  },
  {
   "cell_type": "markdown",
   "metadata": {
    "collapsed": false
   },
   "source": [
    "接着在 ResNet 加入所有残差块，这里每个模块使用 2 个残差块。\n"
   ]
  },
  {
   "cell_type": "code",
   "execution_count": 12,
   "metadata": {
    "collapsed": false
   },
   "outputs": [],
   "source": [
    "model += [\n",
    "             ResnetBlock(64, 64, 2, first_block=True),\n",
    "             ResnetBlock(64, 128, 2),\n",
    "             ResnetBlock(128, 256, 2),\n",
    "             ResnetBlock(256, 512, 2)\n",
    "         ]"
   ]
  },
  {
   "cell_type": "markdown",
   "metadata": {
    "collapsed": false
   },
   "source": [
    "最后，与 GoogLeNet 一样，在 ResNet 中加入全局平均池化层，以及全连接层输出。\n"
   ]
  },
  {
   "cell_type": "code",
   "execution_count": 18,
   "metadata": {
    "collapsed": false
   },
   "outputs": [],
   "source": [
    "class ResNet(nn.Layer):\n",
    "    def __init__(self, num_classes=10):\n",
    "        super(ResNet, self).__init__()\n",
    "        # ResNet的前两层跟之前介绍的GoogLeNet中的一样：\n",
    "        # 在输出通道数为64、步幅为2的7×77卷积层后接步幅为2的3×3的最大池化层。\n",
    "        # 不同之处在于ResNet每个卷积层后增加的批量归一化层。\n",
    "        model = [\n",
    "            nn.Conv2D(1, 64, 7, stride=2, padding=3),\n",
    "            nn.BatchNorm2D(64),\n",
    "            nn.ReLU(),\n",
    "            nn.MaxPool2D(kernel_size=3, stride=2, padding=1)\n",
    "        ]\n",
    "\n",
    "        # 接着我们为ResNet加入所有残差块。这里每个模块使用2个残差块。\n",
    "        model += [\n",
    "            ResnetBlock(64, 64, 2, first_block=True),\n",
    "            ResnetBlock(64, 128, 2),\n",
    "            ResnetBlock(128, 256, 2),\n",
    "            ResnetBlock(256, 512, 2)\n",
    "        ]\n",
    "\n",
    "        # 最后，与GoogLeNet一样，加入全局平均池化层后接上全连接层输出。\n",
    "        model += [\n",
    "            nn.AdaptiveAvgPool2D(output_size=1),\n",
    "            nn.Flatten(start_axis=1, stop_axis=-1),\n",
    "            nn.Linear(512, num_classes),\n",
    "        ]\n",
    "        self.model = nn.Sequential(*model)\n",
    "    def forward(self, X):\n",
    "        Y = self.model(X)\n",
    "        return Y"
   ]
  },
  {
   "cell_type": "markdown",
   "metadata": {
    "collapsed": false
   },
   "source": [
    "每个模块有 4 个卷积层（不包括恒等映射的 $1\\times 1$ 卷积层）。\n",
    "加上第一个 $7\\times 7$ 卷积层和最后一个全连接层，共有 18 层。\n",
    "因此，这种模型通常被称为 ResNet-18。\n",
    "通过配置不同的通道数和模块里的残差块数可以得到不同的 ResNet 模型，例如更深的含 152 层的 ResNet-152。\n",
    "虽然 ResNet 的主体结构跟 GoogLeNet类似，但 ResNet 结构更简单，修改也更方便。这些因素都导致了 ResNet 迅速被广泛使用。\n",
    " :numref:`fig_resnet18` 描述了完整的 ResNet-18。\n",
    "\n",
    "![ResNet-18 架构](../img/resnet18.svg)\n",
    ":label:`fig_resnet18`\n",
    "\n",
    "在训练 ResNet 之前，让我们[**观察一下ResNet中不同模块的输入形状是如何变化的**]。\n",
    "在之前所有架构中，分辨率降低，通道数量增加，直到全局平均池化层聚集所有特征。\n"
   ]
  },
  {
   "cell_type": "code",
   "execution_count": 19,
   "metadata": {
    "collapsed": false
   },
   "outputs": [
    {
     "name": "stdout",
     "output_type": "stream",
     "text": [
      "-------------------------------------------------------------------------------\n",
      "   Layer (type)         Input Shape          Output Shape         Param #    \n",
      "===============================================================================\n",
      "     Conv2D-87        [[1, 1, 96, 96]]     [1, 64, 48, 48]         3,200     \n",
      "  BatchNorm2D-76     [[1, 64, 48, 48]]     [1, 64, 48, 48]          256      \n",
      "      ReLU-41        [[1, 64, 48, 48]]     [1, 64, 48, 48]           0       \n",
      "    MaxPool2D-8      [[1, 64, 48, 48]]     [1, 64, 24, 24]           0       \n",
      "     Conv2D-88       [[1, 64, 24, 24]]     [1, 64, 24, 24]        36,928     \n",
      "  BatchNorm2D-77     [[1, 64, 24, 24]]     [1, 64, 24, 24]          256      \n",
      "      ReLU-42        [[1, 64, 24, 24]]     [1, 64, 24, 24]           0       \n",
      "     Conv2D-89       [[1, 64, 24, 24]]     [1, 64, 24, 24]        36,928     \n",
      "  BatchNorm2D-78     [[1, 64, 24, 24]]     [1, 64, 24, 24]          256      \n",
      "    Residual-36      [[1, 64, 24, 24]]     [1, 64, 24, 24]           0       \n",
      "     Conv2D-90       [[1, 64, 24, 24]]     [1, 64, 24, 24]        36,928     \n",
      "  BatchNorm2D-79     [[1, 64, 24, 24]]     [1, 64, 24, 24]          256      \n",
      "      ReLU-43        [[1, 64, 24, 24]]     [1, 64, 24, 24]           0       \n",
      "     Conv2D-91       [[1, 64, 24, 24]]     [1, 64, 24, 24]        36,928     \n",
      "  BatchNorm2D-80     [[1, 64, 24, 24]]     [1, 64, 24, 24]          256      \n",
      "    Residual-37      [[1, 64, 24, 24]]     [1, 64, 24, 24]           0       \n",
      "  ResnetBlock-17     [[1, 64, 24, 24]]     [1, 64, 24, 24]           0       \n",
      "     Conv2D-92       [[1, 64, 24, 24]]     [1, 128, 12, 12]       73,856     \n",
      "  BatchNorm2D-81     [[1, 128, 12, 12]]    [1, 128, 12, 12]         512      \n",
      "      ReLU-44        [[1, 128, 12, 12]]    [1, 128, 12, 12]          0       \n",
      "     Conv2D-93       [[1, 128, 12, 12]]    [1, 128, 12, 12]       147,584    \n",
      "  BatchNorm2D-82     [[1, 128, 12, 12]]    [1, 128, 12, 12]         512      \n",
      "     Conv2D-94       [[1, 64, 24, 24]]     [1, 128, 12, 12]        8,320     \n",
      "    Residual-38      [[1, 64, 24, 24]]     [1, 128, 12, 12]          0       \n",
      "     Conv2D-95       [[1, 128, 12, 12]]    [1, 128, 12, 12]       147,584    \n",
      "  BatchNorm2D-83     [[1, 128, 12, 12]]    [1, 128, 12, 12]         512      \n",
      "      ReLU-45        [[1, 128, 12, 12]]    [1, 128, 12, 12]          0       \n",
      "     Conv2D-96       [[1, 128, 12, 12]]    [1, 128, 12, 12]       147,584    \n",
      "  BatchNorm2D-84     [[1, 128, 12, 12]]    [1, 128, 12, 12]         512      \n",
      "    Residual-39      [[1, 128, 12, 12]]    [1, 128, 12, 12]          0       \n",
      "  ResnetBlock-18     [[1, 64, 24, 24]]     [1, 128, 12, 12]          0       \n",
      "     Conv2D-97       [[1, 128, 12, 12]]     [1, 256, 6, 6]        295,168    \n",
      "  BatchNorm2D-85      [[1, 256, 6, 6]]      [1, 256, 6, 6]         1,024     \n",
      "      ReLU-46         [[1, 256, 6, 6]]      [1, 256, 6, 6]           0       \n",
      "     Conv2D-98        [[1, 256, 6, 6]]      [1, 256, 6, 6]        590,080    \n",
      "  BatchNorm2D-86      [[1, 256, 6, 6]]      [1, 256, 6, 6]         1,024     \n",
      "     Conv2D-99       [[1, 128, 12, 12]]     [1, 256, 6, 6]        33,024     \n",
      "    Residual-40      [[1, 128, 12, 12]]     [1, 256, 6, 6]           0       \n",
      "    Conv2D-100        [[1, 256, 6, 6]]      [1, 256, 6, 6]        590,080    \n",
      "  BatchNorm2D-87      [[1, 256, 6, 6]]      [1, 256, 6, 6]         1,024     \n",
      "      ReLU-47         [[1, 256, 6, 6]]      [1, 256, 6, 6]           0       \n",
      "    Conv2D-101        [[1, 256, 6, 6]]      [1, 256, 6, 6]        590,080    \n",
      "  BatchNorm2D-88      [[1, 256, 6, 6]]      [1, 256, 6, 6]         1,024     \n",
      "    Residual-41       [[1, 256, 6, 6]]      [1, 256, 6, 6]           0       \n",
      "  ResnetBlock-19     [[1, 128, 12, 12]]     [1, 256, 6, 6]           0       \n",
      "    Conv2D-102        [[1, 256, 6, 6]]      [1, 512, 3, 3]       1,180,160   \n",
      "  BatchNorm2D-89      [[1, 512, 3, 3]]      [1, 512, 3, 3]         2,048     \n",
      "      ReLU-48         [[1, 512, 3, 3]]      [1, 512, 3, 3]           0       \n",
      "    Conv2D-103        [[1, 512, 3, 3]]      [1, 512, 3, 3]       2,359,808   \n",
      "  BatchNorm2D-90      [[1, 512, 3, 3]]      [1, 512, 3, 3]         2,048     \n",
      "    Conv2D-104        [[1, 256, 6, 6]]      [1, 512, 3, 3]        131,584    \n",
      "    Residual-42       [[1, 256, 6, 6]]      [1, 512, 3, 3]           0       \n",
      "    Conv2D-105        [[1, 512, 3, 3]]      [1, 512, 3, 3]       2,359,808   \n",
      "  BatchNorm2D-91      [[1, 512, 3, 3]]      [1, 512, 3, 3]         2,048     \n",
      "      ReLU-49         [[1, 512, 3, 3]]      [1, 512, 3, 3]           0       \n",
      "    Conv2D-106        [[1, 512, 3, 3]]      [1, 512, 3, 3]       2,359,808   \n",
      "  BatchNorm2D-92      [[1, 512, 3, 3]]      [1, 512, 3, 3]         2,048     \n",
      "    Residual-43       [[1, 512, 3, 3]]      [1, 512, 3, 3]           0       \n",
      "  ResnetBlock-20      [[1, 256, 6, 6]]      [1, 512, 3, 3]           0       \n",
      "AdaptiveAvgPool2D-4   [[1, 512, 3, 3]]      [1, 512, 1, 1]           0       \n",
      "     Flatten-6        [[1, 512, 1, 1]]         [1, 512]              0       \n",
      "     Linear-5            [[1, 512]]            [1, 10]             5,130     \n",
      "===============================================================================\n",
      "Total params: 11,186,186\n",
      "Trainable params: 11,170,570\n",
      "Non-trainable params: 15,616\n",
      "-------------------------------------------------------------------------------\n",
      "Input size (MB): 0.04\n",
      "Forward/backward pass size (MB): 10.77\n",
      "Params size (MB): 42.67\n",
      "Estimated Total Size (MB): 53.47\n",
      "-------------------------------------------------------------------------------\n",
      "\n",
      "{'total_params': 11186186, 'trainable_params': 11170570}\n"
     ]
    }
   ],
   "source": [
    "resnet = ResNet(10)\n",
    "param_info = paddle.summary(resnet, (1, 1, 96, 96))\n",
    "print(param_info)"
   ]
  },
  {
   "cell_type": "markdown",
   "metadata": {
    "collapsed": false
   },
   "source": [
    "## [**训练模型**]\n",
    "\n",
    "同之前一样，我们在 Fashion-MNIST 数据集上训练 ResNet。\n"
   ]
  },
  {
   "cell_type": "code",
   "execution_count": 23,
   "metadata": {
    "collapsed": false
   },
   "outputs": [
    {
     "name": "stdout",
     "output_type": "stream",
     "text": [
      "The loss value printed in the log is the current step, and the metric is the average value of previous steps.\n",
      "Epoch 1/2\n",
      "step 100/938 - loss: 0.3080 - acc_top1: 0.7573 - acc_top5: 0.9784 - 32ms/step\n",
      "step 200/938 - loss: 0.3996 - acc_top1: 0.7951 - acc_top5: 0.9870 - 32ms/step\n",
      "step 300/938 - loss: 0.3359 - acc_top1: 0.8158 - acc_top5: 0.9902 - 32ms/step\n"
     ]
    }
   ],
   "source": [
    "from paddle.vision.datasets import FashionMNIST\n",
    "\n",
    "transform = paddle.vision.transforms.Compose([\n",
    "    paddle.vision.transforms.Resize(96),\n",
    "    paddle.vision.transforms.Transpose(),\n",
    "    paddle.vision.transforms.Normalize([127.5], [127.5]),\n",
    "])\n",
    "train_dataset = FashionMNIST(mode='train', transform=transform)\n",
    "val_dataset = FashionMNIST(mode='test', transform=transform)\n",
    "# 模型定义\n",
    "model = paddle.Model(ResNet(10))\n",
    "# 设置训练模型所需的optimizer, loss, metric\n",
    "model.prepare(\n",
    "    paddle.optimizer.Adam(learning_rate=0.001, parameters=model.parameters()),\n",
    "    paddle.nn.CrossEntropyLoss(),\n",
    "    paddle.metric.Accuracy(topk=(1, 5)))\n",
    "# 启动训练、评估\n",
    "model.fit(train_dataset, val_dataset, epochs=2, batch_size=64, log_freq=100)"
   ]
  },
  {
   "cell_type": "markdown",
   "metadata": {
    "collapsed": false
   },
   "source": [
    "## 小结\n",
    "\n",
    "* 学习嵌套函数（nested function）是训练神经网络的理想情况。在深层神经网络中，学习另一层作为恒等映射（identity function）较容易（尽管这是一个极端情况）。\n",
    "* 残差映射可以更容易地学习同一函数，例如将权重层中的参数近似为零。\n",
    "* 利用残差块（residual blocks）可以训练出一个有效的深层神经网络：输入可以通过层间的残余连接更快地向前传播。\n",
    "* 残差网络（ResNet）对随后的深层神经网络设计产生了深远影响，无论是卷积类网络还是全连接类网络。\n",
    "\n",
    "\n",
    "## 练习\n",
    "\n",
    "1. :numref:`fig_inception` 中的Inception块与残差块之间的主要区别是什么？在删除了Inception块中的一些路径之后，它们是如何相互关联的？\n",
    "1. 参考 ResNet 论文 :cite:`He.Zhang.Ren.ea.2016` 中的表 1，以实现不同的变体。\n",
    "1. 对于更深层次的网络，ResNet 引入了“bottleneck”架构来降低模型复杂性。请你试着去实现它。\n",
    "1. 在 ResNet 的后续版本中，作者将“卷积层、批量归一化层和激活层”结构更改为“批量归一化层、激活层和卷积层”结构。请你做这个改进。详见 :cite:`He.Zhang.Ren.ea.2016*1` 中的图 1。\n",
    "1. 为什么即使函数类是嵌套的，我们仍然要限制增加函数的复杂性呢？\n"
   ]
  },
  {
   "cell_type": "markdown",
   "metadata": {
    "collapsed": false
   },
   "source": [
    "[Discussions](https://discuss.d2l.ai/t/1877)\n"
   ]
  }
 ],
 "metadata": {
  "kernelspec": {
   "display_name": "PaddlePaddle 2.1.0 (Python 3.5)",
   "language": "python",
   "name": "py35-paddle1.2.0"
  },
  "language_info": {
   "codemirror_mode": {
    "name": "ipython",
    "version": 3
   },
   "file_extension": ".py",
   "mimetype": "text/x-python",
   "name": "python",
   "nbconvert_exporter": "python",
   "pygments_lexer": "ipython3",
   "version": "3.7.4"
  }
 },
 "nbformat": 4,
 "nbformat_minor": 1
}
