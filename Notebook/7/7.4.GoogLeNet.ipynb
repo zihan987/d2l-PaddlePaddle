{
 "cells": [
  {
   "cell_type": "markdown",
   "metadata": {
    "collapsed": false
   },
   "source": [
    "# 7.4. 含并行连结的网络（GoogLeNet）\n",
    ":label:`sec_googlenet`\n",
    "\n",
    "在2014年的ImageNet图像识别挑战赛中，一个名叫*GoogLeNet* :cite:`Szegedy.Liu.Jia.ea.2015` 的网络结构大放异彩。\n",
    "GoogLeNet吸收了NiN中串联网络的思想，并在此基础上做了改进。\n",
    "这篇论文的一个重点是解决了什么样大小的卷积核最合适的问题。\n",
    "毕竟，以前流行的网络使用小到 $1 \\times 1$ ，大到 $11 \\times 11$ 的卷积核。\n",
    "本文的一个观点是，有时使用不同大小的卷积核组合是有利的。\n",
    "在本节中，我们将介绍一个稍微简化的GoogLeNet版本：我们省略了一些为稳定训练而添加的特殊特性，但是现在有了更好的训练算法，这些特性不是必要的。\n",
    "\n",
    "\n",
    "## (**7.4.1. Inception块**)\n",
    "\n",
    "在GoogLeNet中，基本的卷积块被称为*Inception块*（Inception block）。这很可能得名于电影《盗梦空间》（Inception），因为电影中的一句话“我们需要走得更深”（“We need to go deeper”）。\n",
    "\n",
    "![Inception块的结构。](../img/inception.svg)\n",
    ":label:`fig_inception`\n",
    "\n",
    "如 :numref:`fig_inception` 所示，Inception块由四条并行路径组成。\n",
    "前三条路径使用窗口大小为 $1\\times 1$、$3\\times 3$ 和 $5\\times 5$ 的卷积层，从不同空间大小中提取信息。\n",
    "中间的两条路径在输入上执行 $1\\times 1$ 卷积，以减少通道数，从而降低模型的复杂性。\n",
    "第四条路径使用 $3\\times 3$ 最大池化层，然后使用 $1\\times 1$ 卷积层来改变通道数。\n",
    "这四条路径都使用合适的填充来使输入与输出的高和宽一致，最后我们将每条线路的输出在通道维度上连结，并构成Inception块的输出。在Inception块中，通常调整的超参数是每层输出通道的数量。\n"
   ]
  },
  {
   "cell_type": "code",
   "execution_count": 3,
   "metadata": {
    "collapsed": false
   },
   "outputs": [],
   "source": [
    "import paddle\n",
    "import paddle.nn as nn\n",
    "import numpy as np\n",
    "\n",
    "class Inception(nn.Layer):\n",
    "    # c1 - c4为每条线路里的层的输出通道数\n",
    "    def __init__(self, num_channels, c1, c2, c3, c4):\n",
    "        super(Inception, self).__init__()\n",
    "        # 线路1，单1 x 1卷积层\n",
    "        p1 = [\n",
    "            nn.Conv2D(num_channels, c1, 1),\n",
    "            nn.ReLU()\n",
    "        ]\n",
    "        self.p1 = nn.Sequential(*p1)\n",
    "        # 线路2，1 x 1卷积层后接3 x 3卷积层\n",
    "        p2 = [\n",
    "            nn.Conv2D(num_channels, c2[0], 1),\n",
    "            nn.ReLU(),\n",
    "            nn.Conv2D(c2[0], c2[1], 3, padding=1),\n",
    "            nn.ReLU()\n",
    "        ]\n",
    "        self.p2 = nn.Sequential(*p2)\n",
    "        # 线路3，1 x 1卷积层后接5 x 5卷积层\n",
    "        p3 = [\n",
    "            nn.Conv2D(num_channels, c3[0], 1),\n",
    "            nn.ReLU(),\n",
    "            nn.Conv2D(c3[0], c3[1], 5, padding=2),\n",
    "            nn.ReLU()\n",
    "        ]\n",
    "        self.p3 = nn.Sequential(*p3)\n",
    "        # 线路4，3 x 3最大池化层后接1 x 1卷积层\n",
    "        p4 = [\n",
    "            nn.MaxPool2D(3, stride=1, padding=1),\n",
    "            nn.Conv2D(num_channels, c4, 1),\n",
    "            nn.ReLU()\n",
    "        ]\n",
    "        self.p4 = nn.Sequential(*p4)\n",
    "    def forward(self, X):\n",
    "        # 在通道维上连结输出\n",
    "        return paddle.concat([self.p1(X), self.p2(X), self.p3(X), self.p4(X)], axis=1)"
   ]
  },
  {
   "cell_type": "markdown",
   "metadata": {
    "collapsed": false
   },
   "source": [
    "那么为什么GoogLeNet这个网络如此有效呢？\n",
    "首先我们考虑一下滤波器（filter）的组合，它们可以用各种滤波器尺寸探索图像，这意味着不同大小的滤波器可以有效地识别不同范围的图像细节。\n",
    "同时，我们可以为不同的滤波器分配不同数量的参数。\n",
    "\n",
    "\n",
    "## [**7.4.2. GoogLeNet模型**]\n",
    "\n",
    "如 :numref:`fig_inception_full` 所示，GoogLeNet 一共使用 9 个Inception块和全局平均池化层的堆叠来生成其估计值。Inception块之间的最大池化层可降低维度。\n",
    "第一个模块类似于 AlexNet 和 LeNet，Inception块的栈从VGG继承，全局平均池化层避免了在最后使用全连接层。\n",
    "\n",
    "![GoogLeNet结构。](../img/inception-full.svg)\n",
    ":label:`fig_inception_full`\n",
    "\n",
    "现在，我们逐一实现GoogLeNet的每个模块。第一个模块使用 64 个通道、 $7\\times 7$ 卷积层。\n"
   ]
  },
  {
   "cell_type": "code",
   "execution_count": 4,
   "metadata": {
    "collapsed": false
   },
   "outputs": [],
   "source": [
    "model = [\n",
    "            nn.Conv2D(1, 64, 7, stride=2, padding=3),\n",
    "            nn.ReLU(),\n",
    "            nn.MaxPool2D(kernel_size=3, stride=2, padding=1)\n",
    "]"
   ]
  },
  {
   "cell_type": "markdown",
   "metadata": {
    "collapsed": false
   },
   "source": [
    "第二个模块使用两个卷积层：第一个卷积层是 64个通道、 $1\\times 1$ 卷积层；第二个卷积层使用将通道数量增加三倍的 $3\\times 3$ 卷积层。\n",
    "这对应于 Inception 块中的第二条路径。\n"
   ]
  },
  {
   "cell_type": "code",
   "execution_count": 5,
   "metadata": {
    "collapsed": false
   },
   "outputs": [],
   "source": [
    "model += [\n",
    "             nn.Conv2D(64, 64, 1),\n",
    "             nn.ReLU(),\n",
    "             nn.Conv2D(64, 192, 3, padding=1),\n",
    "             nn.ReLU(),\n",
    "             nn.MaxPool2D(3, stride=2, padding=1)\n",
    "         ]"
   ]
  },
  {
   "cell_type": "markdown",
   "metadata": {
    "collapsed": false
   },
   "source": [
    "第三个模块串联两个完整的Inception块。\n",
    "第一个 Inception 块的输出通道数为 $64+128+32+32=256$，四个路径之间的输出通道数量比为 $64:128:32:32=2:4:1:1$。\n",
    "第二个和第三个路径首先将输入通道的数量分别减少到 $96/192=1/2$ 和 $16/192=1/12$，然后连接第二个卷积层。第二个 Inception 块的输出通道数增加到 $128+192+96+64=480$，四个路径之间的输出通道数量比为 $128:192:96:64 = 4:6:3:2$。\n",
    "第二条和第三条路径首先将输入通道的数量分别减少到 $128/256=1/2$ 和 $32/256=1/8$。\n"
   ]
  },
  {
   "cell_type": "code",
   "execution_count": 6,
   "metadata": {
    "collapsed": false
   },
   "outputs": [],
   "source": [
    "model += [\n",
    "            Inception(64, 64, (96, 128), (16, 32), 32),\n",
    "            # Inception(192, 64, (96, 128), (16, 32), 32),\n",
    "            Inception(256, 128, (128, 192), (32, 96), 64),\n",
    "            nn.MaxPool2D(3, stride=2, padding=1)\n",
    "        ]"
   ]
  },
  {
   "cell_type": "markdown",
   "metadata": {
    "collapsed": false
   },
   "source": [
    "第四模块更加复杂，\n",
    "它串联了5个Inception块，其输出通道数分别是 $192+208+48+64=512$ 、 $160+224+64+64=512$ 、 $128+256+64+64=512$ 、 $112+288+64+64=528$ 和 $256+320+128+128=832$ 。\n",
    "这些路径的通道数分配和第三模块中的类似，首先是含 $3×3$ 卷积层的第二条路径输出最多通道，其次是仅含 $1×1$ 卷积层的第一条路径，之后是含 $5×5$ 卷积层的第三条路径和含 $3×3$ 最大池化层的第四条路径。\n",
    "其中第二、第三条路径都会先按比例减小通道数。\n",
    "这些比例在各个 Inception 块中都略有不同。\n"
   ]
  },
  {
   "cell_type": "code",
   "execution_count": 7,
   "metadata": {
    "collapsed": false
   },
   "outputs": [],
   "source": [
    "model += [\n",
    "            Inception(480, 192, (96, 208), (16, 48), 64),\n",
    "            Inception(512, 160, (112, 224), (24, 64), 64),\n",
    "            Inception(512, 128, (128, 256), (24, 64), 64),\n",
    "            Inception(512, 112, (144, 288), (32, 64), 64),\n",
    "            Inception(528, 256, (160, 320), (32, 128), 128),\n",
    "            nn.MaxPool2D(3, stride=2, padding=1)\n",
    "        ]"
   ]
  },
  {
   "cell_type": "markdown",
   "metadata": {
    "collapsed": false
   },
   "source": [
    "第五模块包含输出通道数为 $256+320+128+128=832$ 和 $384+384+128+128=1024$ 的两个Inception块。\n",
    "其中每条路径通道数的分配思路和第三、第四模块中的一致，只是在具体数值上有所不同。\n",
    "需要注意的是，第五模块的后面紧跟输出层，该模块同 NiN 一样使用全局平均池化层，将每个通道的高和宽变成1。\n",
    "最后我们将输出变成二维数组，再接上一个输出个数为标签类别数的全连接层。\n"
   ]
  },
  {
   "cell_type": "code",
   "execution_count": 8,
   "metadata": {
    "collapsed": false
   },
   "outputs": [],
   "source": [
    "model += [\n",
    "            Inception(832, 256, (160, 320), (32, 128), 128),\n",
    "            Inception(832, 384, (192, 384), (48, 128), 128),\n",
    "            paddle.fluid.dygraph.Pool2D(pool_type='max', global_pooling=True)\n",
    "        ]"
   ]
  },
  {
   "cell_type": "markdown",
   "metadata": {
    "collapsed": false
   },
   "source": [
    "GoogLeNet 模型的计算复杂，而且不如 VGG 那样便于修改通道数。\n",
    "[**为了使Fashion-MNIST上的训练短小精悍，我们将输入的高和宽从224降到96**]，这简化了计算。下面演示各个模块输出的形状变化。\n"
   ]
  },
  {
   "cell_type": "code",
   "execution_count": 9,
   "metadata": {
    "collapsed": false
   },
   "outputs": [
    {
     "name": "stdout",
     "output_type": "stream",
     "text": [
      "[1, 10]\n"
     ]
    }
   ],
   "source": [
    "class GoogleNet(nn.Layer):\n",
    "    def __init__(self, num_classes=10):\n",
    "        super(GoogleNet, self).__init__()\n",
    "        # GoogLeNet跟VGG一样，在主体卷积部分中使用5个模块（block），\n",
    "        # 个模块之间使用步幅为2的3×3最大池化层来减小输出高宽。\n",
    "        # 第一模块使用一个64通道的7×7卷积层。\n",
    "        model = [\n",
    "            nn.Conv2D(1, 64, 7, stride=2, padding=3),\n",
    "            nn.ReLU(),\n",
    "            nn.MaxPool2D(3, stride=2, padding=1)\n",
    "        ]\n",
    "        # 第二模块使用2个卷积层：首先是64通道的1×1卷积层，\n",
    "        # 然后是将通道增大3倍的3×3卷积层。\n",
    "        # 它对应Inception块中的第二条线路。\n",
    "        # model += [\n",
    "        #     nn.Conv2D(64, 64, 1),\n",
    "        #     nn.ReLU(),\n",
    "        #     nn.Conv2D(64, 192, 3, padding=1),\n",
    "        #     nn.ReLU(),\n",
    "        #     nn.MaxPool2D(3, stride=2, padding=1)\n",
    "        # ]\n",
    "        # 第三模块串联2个完整的Inception块。\n",
    "        # 第一个Inception块的输出通道数为64+128+32+32=256，\n",
    "        # 其中4条线路的输出通道数比例为64:128:32:32=2:4:1:1。\n",
    "        # 其中第二、第三条线路先分别将输入通道数减小至96/192=1/2和16/192=1/12后，再接上第二层卷积层。\n",
    "        # 第二个Inception块输出通道数增至128+192+96+64=480，\n",
    "        # 每条线路的输出通道数之比为128:192:96:64=4:6:3:2。\n",
    "        # 其中第二、第三条线路先分别将输入通道数减小至128/256=1/2和32/256=1/8。\n",
    "        model += [\n",
    "            Inception(64, 64, (96, 128), (16, 32), 32),\n",
    "            # Inception(192, 64, (96, 128), (16, 32), 32),\n",
    "            Inception(256, 128, (128, 192), (32, 96), 64),\n",
    "            nn.MaxPool2D(3, stride=2, padding=1)\n",
    "        ]\n",
    "        # 第四模块更加复杂。它串联了5个Inception块，\n",
    "        # 其输出通道数分别是192+208+48+64=512、160+224+64+64=512、\n",
    "        # 128+256+64+64=512、112+288+64+64=528528和256+320+128+128=832。\n",
    "        # 这些线路的通道数分配和第三模块中的类似，\n",
    "        # 首先是含3×3卷积层的第二条线路输出最多通道，\n",
    "        # 其次是仅含1×1卷积层的第一条线路，\n",
    "        # 之后是含5×5卷积层的第三条线路和含3×3最大池化层的第四条线路。\n",
    "        # 其中第二、第三条线路都会先按比例减小通道数。\n",
    "        # 这些比例在各个Inception块中都略有不同。\n",
    "        model += [\n",
    "            Inception(480, 192, (96, 208), (16, 48), 64),\n",
    "            Inception(512, 160, (112, 224), (24, 64), 64),\n",
    "            Inception(512, 128, (128, 256), (24, 64), 64),\n",
    "            Inception(512, 112, (144, 288), (32, 64), 64),\n",
    "            Inception(528, 256, (160, 320), (32, 128), 128),\n",
    "            nn.MaxPool2D(3, stride=2, padding=1)\n",
    "        ]\n",
    "        # 第五模块有输出通道数为256+320+128+128=832和384+384+128+128=1024的两个Inception块。\n",
    "        # 其中每条线路的通道数的分配思路和第三、第四模块中的一致，只是在具体数值上有所不同。\n",
    "        # 需要注意的是，第五模块的后面紧跟输出层，该模块同NiN一样使用全局平均池化层来将每个通道的高和宽变成1。\n",
    "        # 最后我们将输出变成二维数组后接上一个输出个数为标签类别数的全连接层。\n",
    "        model += [\n",
    "            Inception(832, 256, (160, 320), (32, 128), 128),\n",
    "            Inception(832, 384, (192, 384), (48, 128), 128),\n",
    "            paddle.fluid.dygraph.Pool2D(pool_type='max', global_pooling=True)\n",
    "        ]\n",
    "        self.model = nn.Sequential(*model)\n",
    "        self.fc = nn.Sequential(nn.Linear(1024, 10))\n",
    "    def forward(self, X):\n",
    "        Y = self.model(X)\n",
    "        Y = paddle.flatten(Y, start_axis=1)\n",
    "        Y = self.fc(Y)\n",
    "        return Y\n",
    "\n",
    "with paddle.fluid.dygraph.guard():\n",
    "    googlenet = GoogleNet()\n",
    "    X = paddle.to_tensor(np.random.uniform(-1, 1, [1, 1, 28, 28]).astype('float32'))\n",
    "    Y = googlenet(X)\n",
    "    print(Y.shape)"
   ]
  },
  {
   "cell_type": "markdown",
   "metadata": {
    "collapsed": false
   },
   "source": [
    "GoogLeNet模型的计算复杂，而且不如VGG那样便于修改通道数。本节里我们将输入的高和宽从224降到96来简化计算。下面演示各个模块之间的输出的形状变化。"
   ]
  },
  {
   "cell_type": "code",
   "execution_count": 10,
   "metadata": {
    "collapsed": false
   },
   "outputs": [
    {
     "name": "stdout",
     "output_type": "stream",
     "text": [
      "---------------------------------------------------------------------------\n",
      " Layer (type)       Input Shape          Output Shape         Param #    \n",
      "===========================================================================\n",
      "   Conv2D-1       [[1, 1, 28, 28]]     [1, 64, 14, 14]         3,200     \n",
      "    ReLU-1       [[1, 64, 14, 14]]     [1, 64, 14, 14]           0       \n",
      "  MaxPool2D-1    [[1, 64, 14, 14]]      [1, 64, 7, 7]            0       \n",
      "   Conv2D-2       [[1, 64, 7, 7]]       [1, 64, 7, 7]          4,160     \n",
      "    ReLU-2        [[1, 64, 7, 7]]       [1, 64, 7, 7]            0       \n",
      "   Conv2D-3       [[1, 64, 7, 7]]       [1, 96, 7, 7]          6,240     \n",
      "    ReLU-3        [[1, 96, 7, 7]]       [1, 96, 7, 7]            0       \n",
      "   Conv2D-4       [[1, 96, 7, 7]]       [1, 128, 7, 7]        110,720    \n",
      "    ReLU-4        [[1, 128, 7, 7]]      [1, 128, 7, 7]           0       \n",
      "   Conv2D-5       [[1, 64, 7, 7]]       [1, 16, 7, 7]          1,040     \n",
      "    ReLU-5        [[1, 16, 7, 7]]       [1, 16, 7, 7]            0       \n",
      "   Conv2D-6       [[1, 16, 7, 7]]       [1, 32, 7, 7]         12,832     \n",
      "    ReLU-6        [[1, 32, 7, 7]]       [1, 32, 7, 7]            0       \n",
      "  MaxPool2D-2     [[1, 64, 7, 7]]       [1, 64, 7, 7]            0       \n",
      "   Conv2D-7       [[1, 64, 7, 7]]       [1, 32, 7, 7]          2,080     \n",
      "    ReLU-7        [[1, 32, 7, 7]]       [1, 32, 7, 7]            0       \n",
      "  Inception-1     [[1, 64, 7, 7]]       [1, 256, 7, 7]           0       \n",
      "   Conv2D-8       [[1, 256, 7, 7]]      [1, 128, 7, 7]        32,896     \n",
      "    ReLU-8        [[1, 128, 7, 7]]      [1, 128, 7, 7]           0       \n",
      "   Conv2D-9       [[1, 256, 7, 7]]      [1, 128, 7, 7]        32,896     \n",
      "    ReLU-9        [[1, 128, 7, 7]]      [1, 128, 7, 7]           0       \n",
      "   Conv2D-10      [[1, 128, 7, 7]]      [1, 192, 7, 7]        221,376    \n",
      "    ReLU-10       [[1, 192, 7, 7]]      [1, 192, 7, 7]           0       \n",
      "   Conv2D-11      [[1, 256, 7, 7]]      [1, 32, 7, 7]          8,224     \n",
      "    ReLU-11       [[1, 32, 7, 7]]       [1, 32, 7, 7]            0       \n",
      "   Conv2D-12      [[1, 32, 7, 7]]       [1, 96, 7, 7]         76,896     \n",
      "    ReLU-12       [[1, 96, 7, 7]]       [1, 96, 7, 7]            0       \n",
      "  MaxPool2D-3     [[1, 256, 7, 7]]      [1, 256, 7, 7]           0       \n",
      "   Conv2D-13      [[1, 256, 7, 7]]      [1, 64, 7, 7]         16,448     \n",
      "    ReLU-13       [[1, 64, 7, 7]]       [1, 64, 7, 7]            0       \n",
      "  Inception-2     [[1, 256, 7, 7]]      [1, 480, 7, 7]           0       \n",
      "  MaxPool2D-4     [[1, 480, 7, 7]]      [1, 480, 4, 4]           0       \n",
      "   Conv2D-14      [[1, 480, 4, 4]]      [1, 192, 4, 4]        92,352     \n",
      "    ReLU-14       [[1, 192, 4, 4]]      [1, 192, 4, 4]           0       \n",
      "   Conv2D-15      [[1, 480, 4, 4]]      [1, 96, 4, 4]         46,176     \n",
      "    ReLU-15       [[1, 96, 4, 4]]       [1, 96, 4, 4]            0       \n",
      "   Conv2D-16      [[1, 96, 4, 4]]       [1, 208, 4, 4]        179,920    \n",
      "    ReLU-16       [[1, 208, 4, 4]]      [1, 208, 4, 4]           0       \n",
      "   Conv2D-17      [[1, 480, 4, 4]]      [1, 16, 4, 4]          7,696     \n",
      "    ReLU-17       [[1, 16, 4, 4]]       [1, 16, 4, 4]            0       \n",
      "   Conv2D-18      [[1, 16, 4, 4]]       [1, 48, 4, 4]         19,248     \n",
      "    ReLU-18       [[1, 48, 4, 4]]       [1, 48, 4, 4]            0       \n",
      "  MaxPool2D-5     [[1, 480, 4, 4]]      [1, 480, 4, 4]           0       \n",
      "   Conv2D-19      [[1, 480, 4, 4]]      [1, 64, 4, 4]         30,784     \n",
      "    ReLU-19       [[1, 64, 4, 4]]       [1, 64, 4, 4]            0       \n",
      "  Inception-3     [[1, 480, 4, 4]]      [1, 512, 4, 4]           0       \n",
      "   Conv2D-20      [[1, 512, 4, 4]]      [1, 160, 4, 4]        82,080     \n",
      "    ReLU-20       [[1, 160, 4, 4]]      [1, 160, 4, 4]           0       \n",
      "   Conv2D-21      [[1, 512, 4, 4]]      [1, 112, 4, 4]        57,456     \n",
      "    ReLU-21       [[1, 112, 4, 4]]      [1, 112, 4, 4]           0       \n",
      "   Conv2D-22      [[1, 112, 4, 4]]      [1, 224, 4, 4]        226,016    \n",
      "    ReLU-22       [[1, 224, 4, 4]]      [1, 224, 4, 4]           0       \n",
      "   Conv2D-23      [[1, 512, 4, 4]]      [1, 24, 4, 4]         12,312     \n",
      "    ReLU-23       [[1, 24, 4, 4]]       [1, 24, 4, 4]            0       \n",
      "   Conv2D-24      [[1, 24, 4, 4]]       [1, 64, 4, 4]         38,464     \n",
      "    ReLU-24       [[1, 64, 4, 4]]       [1, 64, 4, 4]            0       \n",
      "  MaxPool2D-6     [[1, 512, 4, 4]]      [1, 512, 4, 4]           0       \n",
      "   Conv2D-25      [[1, 512, 4, 4]]      [1, 64, 4, 4]         32,832     \n",
      "    ReLU-25       [[1, 64, 4, 4]]       [1, 64, 4, 4]            0       \n",
      "  Inception-4     [[1, 512, 4, 4]]      [1, 512, 4, 4]           0       \n",
      "   Conv2D-26      [[1, 512, 4, 4]]      [1, 128, 4, 4]        65,664     \n",
      "    ReLU-26       [[1, 128, 4, 4]]      [1, 128, 4, 4]           0       \n",
      "   Conv2D-27      [[1, 512, 4, 4]]      [1, 128, 4, 4]        65,664     \n",
      "    ReLU-27       [[1, 128, 4, 4]]      [1, 128, 4, 4]           0       \n",
      "   Conv2D-28      [[1, 128, 4, 4]]      [1, 256, 4, 4]        295,168    \n",
      "    ReLU-28       [[1, 256, 4, 4]]      [1, 256, 4, 4]           0       \n",
      "   Conv2D-29      [[1, 512, 4, 4]]      [1, 24, 4, 4]         12,312     \n",
      "    ReLU-29       [[1, 24, 4, 4]]       [1, 24, 4, 4]            0       \n",
      "   Conv2D-30      [[1, 24, 4, 4]]       [1, 64, 4, 4]         38,464     \n",
      "    ReLU-30       [[1, 64, 4, 4]]       [1, 64, 4, 4]            0       \n",
      "  MaxPool2D-7     [[1, 512, 4, 4]]      [1, 512, 4, 4]           0       \n",
      "   Conv2D-31      [[1, 512, 4, 4]]      [1, 64, 4, 4]         32,832     \n",
      "    ReLU-31       [[1, 64, 4, 4]]       [1, 64, 4, 4]            0       \n",
      "  Inception-5     [[1, 512, 4, 4]]      [1, 512, 4, 4]           0       \n",
      "   Conv2D-32      [[1, 512, 4, 4]]      [1, 112, 4, 4]        57,456     \n",
      "    ReLU-32       [[1, 112, 4, 4]]      [1, 112, 4, 4]           0       \n",
      "   Conv2D-33      [[1, 512, 4, 4]]      [1, 144, 4, 4]        73,872     \n",
      "    ReLU-33       [[1, 144, 4, 4]]      [1, 144, 4, 4]           0       \n",
      "   Conv2D-34      [[1, 144, 4, 4]]      [1, 288, 4, 4]        373,536    \n",
      "    ReLU-34       [[1, 288, 4, 4]]      [1, 288, 4, 4]           0       \n",
      "   Conv2D-35      [[1, 512, 4, 4]]      [1, 32, 4, 4]         16,416     \n",
      "    ReLU-35       [[1, 32, 4, 4]]       [1, 32, 4, 4]            0       \n",
      "   Conv2D-36      [[1, 32, 4, 4]]       [1, 64, 4, 4]         51,264     \n",
      "    ReLU-36       [[1, 64, 4, 4]]       [1, 64, 4, 4]            0       \n",
      "  MaxPool2D-8     [[1, 512, 4, 4]]      [1, 512, 4, 4]           0       \n",
      "   Conv2D-37      [[1, 512, 4, 4]]      [1, 64, 4, 4]         32,832     \n",
      "    ReLU-37       [[1, 64, 4, 4]]       [1, 64, 4, 4]            0       \n",
      "  Inception-6     [[1, 512, 4, 4]]      [1, 528, 4, 4]           0       \n",
      "   Conv2D-38      [[1, 528, 4, 4]]      [1, 256, 4, 4]        135,424    \n",
      "    ReLU-38       [[1, 256, 4, 4]]      [1, 256, 4, 4]           0       \n",
      "   Conv2D-39      [[1, 528, 4, 4]]      [1, 160, 4, 4]        84,640     \n",
      "    ReLU-39       [[1, 160, 4, 4]]      [1, 160, 4, 4]           0       \n",
      "   Conv2D-40      [[1, 160, 4, 4]]      [1, 320, 4, 4]        461,120    \n",
      "    ReLU-40       [[1, 320, 4, 4]]      [1, 320, 4, 4]           0       \n",
      "   Conv2D-41      [[1, 528, 4, 4]]      [1, 32, 4, 4]         16,928     \n",
      "    ReLU-41       [[1, 32, 4, 4]]       [1, 32, 4, 4]            0       \n",
      "   Conv2D-42      [[1, 32, 4, 4]]       [1, 128, 4, 4]        102,528    \n",
      "    ReLU-42       [[1, 128, 4, 4]]      [1, 128, 4, 4]           0       \n",
      "  MaxPool2D-9     [[1, 528, 4, 4]]      [1, 528, 4, 4]           0       \n",
      "   Conv2D-43      [[1, 528, 4, 4]]      [1, 128, 4, 4]        67,712     \n",
      "    ReLU-43       [[1, 128, 4, 4]]      [1, 128, 4, 4]           0       \n",
      "  Inception-7     [[1, 528, 4, 4]]      [1, 832, 4, 4]           0       \n",
      " MaxPool2D-10     [[1, 832, 4, 4]]      [1, 832, 2, 2]           0       \n",
      "   Conv2D-44      [[1, 832, 2, 2]]      [1, 256, 2, 2]        213,248    \n",
      "    ReLU-44       [[1, 256, 2, 2]]      [1, 256, 2, 2]           0       \n",
      "   Conv2D-45      [[1, 832, 2, 2]]      [1, 160, 2, 2]        133,280    \n",
      "    ReLU-45       [[1, 160, 2, 2]]      [1, 160, 2, 2]           0       \n",
      "   Conv2D-46      [[1, 160, 2, 2]]      [1, 320, 2, 2]        461,120    \n",
      "    ReLU-46       [[1, 320, 2, 2]]      [1, 320, 2, 2]           0       \n",
      "   Conv2D-47      [[1, 832, 2, 2]]      [1, 32, 2, 2]         26,656     \n",
      "    ReLU-47       [[1, 32, 2, 2]]       [1, 32, 2, 2]            0       \n",
      "   Conv2D-48      [[1, 32, 2, 2]]       [1, 128, 2, 2]        102,528    \n",
      "    ReLU-48       [[1, 128, 2, 2]]      [1, 128, 2, 2]           0       \n",
      " MaxPool2D-11     [[1, 832, 2, 2]]      [1, 832, 2, 2]           0       \n",
      "   Conv2D-49      [[1, 832, 2, 2]]      [1, 128, 2, 2]        106,624    \n",
      "    ReLU-49       [[1, 128, 2, 2]]      [1, 128, 2, 2]           0       \n",
      "  Inception-8     [[1, 832, 2, 2]]      [1, 832, 2, 2]           0       \n",
      "   Conv2D-50      [[1, 832, 2, 2]]      [1, 384, 2, 2]        319,872    \n",
      "    ReLU-50       [[1, 384, 2, 2]]      [1, 384, 2, 2]           0       \n",
      "   Conv2D-51      [[1, 832, 2, 2]]      [1, 192, 2, 2]        159,936    \n",
      "    ReLU-51       [[1, 192, 2, 2]]      [1, 192, 2, 2]           0       \n",
      "   Conv2D-52      [[1, 192, 2, 2]]      [1, 384, 2, 2]        663,936    \n",
      "    ReLU-52       [[1, 384, 2, 2]]      [1, 384, 2, 2]           0       \n",
      "   Conv2D-53      [[1, 832, 2, 2]]      [1, 48, 2, 2]         39,984     \n",
      "    ReLU-53       [[1, 48, 2, 2]]       [1, 48, 2, 2]            0       \n",
      "   Conv2D-54      [[1, 48, 2, 2]]       [1, 128, 2, 2]        153,728    \n",
      "    ReLU-54       [[1, 128, 2, 2]]      [1, 128, 2, 2]           0       \n",
      " MaxPool2D-12     [[1, 832, 2, 2]]      [1, 832, 2, 2]           0       \n",
      "   Conv2D-55      [[1, 832, 2, 2]]      [1, 128, 2, 2]        106,624    \n",
      "    ReLU-55       [[1, 128, 2, 2]]      [1, 128, 2, 2]           0       \n",
      "  Inception-9     [[1, 832, 2, 2]]     [1, 1024, 2, 2]           0       \n",
      "   Pool2D-1      [[1, 1024, 2, 2]]     [1, 1024, 1, 1]           0       \n",
      "   Linear-1         [[1, 1024]]            [1, 10]            10,250     \n",
      "===========================================================================\n",
      "Total params: 5,835,962\n",
      "Trainable params: 5,835,962\n",
      "Non-trainable params: 0\n",
      "---------------------------------------------------------------------------\n",
      "Input size (MB): 0.00\n",
      "Forward/backward pass size (MB): 3.26\n",
      "Params size (MB): 22.26\n",
      "Estimated Total Size (MB): 25.53\n",
      "---------------------------------------------------------------------------\n",
      "\n",
      "{'total_params': 5835962, 'trainable_params': 5835962}\n"
     ]
    }
   ],
   "source": [
    "with paddle.fluid.dygraph.guard():\n",
    "    googlenet = GoogleNet(10)\n",
    "    param_info = paddle.summary(googlenet, (1, 1, 28, 28))\n",
    "    print(param_info)"
   ]
  },
  {
   "cell_type": "markdown",
   "metadata": {
    "collapsed": false
   },
   "source": [
    "## [**7.4.3. 训练模型**]\n",
    "\n",
    "和以前一样，我们使用 Fashion-MNIST 数据集来训练我们的模型。在训练之前，我们将图片转换为 $96 \\times 96$ 分辨率。\n"
   ]
  },
  {
   "cell_type": "code",
   "execution_count": 11,
   "metadata": {
    "collapsed": false
   },
   "outputs": [
    {
     "name": "stdout",
     "output_type": "stream",
     "text": [
      "The loss value printed in the log is the current step, and the metric is the average value of previous steps.\n",
      "Epoch 1/2\n",
      "step 100/938 - loss: 0.7295 - acc_top1: 0.4831 - acc_top5: 0.8505 - 60ms/step\n",
      "step 200/938 - loss: 0.4486 - acc_top1: 0.6225 - acc_top5: 0.9213 - 61ms/step\n"
     ]
    }
   ],
   "source": [
    "import paddle\n",
    "import paddle.vision.transforms as T\n",
    "from paddle.vision.datasets import FashionMNIST\n",
    "\n",
    "# 数据集处理\n",
    "transform = T.Compose([\n",
    "    T.Resize(96),\n",
    "    T.Transpose(),\n",
    "    T.Normalize([127.5], [127.5]),\n",
    "])\n",
    "train_dataset = FashionMNIST(mode='train', transform=transform)\n",
    "val_dataset = FashionMNIST(mode='test', transform=transform)\n",
    "# 模型定义\n",
    "model = paddle.Model(GoogleNet(10))\n",
    "# 设置训练模型所需的optimizer, loss, metric\n",
    "model.prepare(\n",
    "    paddle.optimizer.Adam(learning_rate=0.001, parameters=model.parameters()),\n",
    "    paddle.nn.CrossEntropyLoss(),\n",
    "    paddle.metric.Accuracy(topk=(1, 5)))\n",
    "# 启动训练、评估\n",
    "model.fit(train_dataset, val_dataset, epochs=2, batch_size=64, log_freq=100)"
   ]
  },
  {
   "cell_type": "markdown",
   "metadata": {
    "collapsed": false
   },
   "source": [
    "## 7.4.4. 小结\n",
    "\n",
    "* Inception 块相当于一个有4条路径的子网络。它通过不同窗口形状的卷积层和最大池化层来并行抽取信息，并使用 $1×1$ 卷积层减少每像素级别上的通道维数从而降低模型复杂度。\n",
    "*  GoogLeNet将多个设计精细的Inception块与其他层（卷积层、全连接层）串联起来。其中Inception块的通道数分配之比是在 ImageNet 数据集上通过大量的实验得来的。\n",
    "* GoogLeNet 和它的后继者们一度是 ImageNet 上最有效的模型之一：它以较低的计算复杂度提供了类似的测试精度。\n",
    "\n",
    "\n",
    "## 7.4.5. 练习\n",
    "\n",
    "1. GoogLeNet 有数个后续版本。尝试实现并运行它们，然后观察实验结果。这些后续版本包括：\n",
    "    * 添加批量归一化层 :cite:`Ioffe.Szegedy.2015`（batch normalization），在 :numref:`sec_batch_norm`中将介绍）。\n",
    "    * 对 Inception 模块进行调整。\n",
    "    * 使用标签平滑（label smoothing）进行模型正则化 :cite:`Szegedy.Vanhoucke.Ioffe.ea.2016`。\n",
    "    * 加入残差连接 :cite:`Szegedy.Ioffe.Vanhoucke.ea.2017` ，（ :numref:`sec_resnet` 将介绍）。\n",
    "1. 使用 GoogLeNet 的最小图像大小是多少？\n",
    "1. 将 AlexNet、VGG 和 NiN 的模型参数大小与 GoogLeNet 进行比较。后两个网络结构是如何显著减少模型参数大小的？\n"
   ]
  },
  {
   "cell_type": "markdown",
   "metadata": {
    "collapsed": false
   },
   "source": [
    "[Discussions](https://discuss.d2l.ai/t/1871)\n"
   ]
  }
 ],
 "metadata": {
  "kernelspec": {
   "display_name": "PaddlePaddle 2.1.0 (Python 3.5)",
   "language": "python",
   "name": "py35-paddle1.2.0"
  },
  "language_info": {
   "codemirror_mode": {
    "name": "ipython",
    "version": 3
   },
   "file_extension": ".py",
   "mimetype": "text/x-python",
   "name": "python",
   "nbconvert_exporter": "python",
   "pygments_lexer": "ipython3",
   "version": "3.7.4"
  }
 },
 "nbformat": 4,
 "nbformat_minor": 1
}
