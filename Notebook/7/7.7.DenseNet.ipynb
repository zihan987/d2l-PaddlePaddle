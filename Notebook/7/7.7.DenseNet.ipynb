{
 "cells": [
  {
   "cell_type": "markdown",
   "metadata": {
    "collapsed": false
   },
   "source": [
    "# 7.7. 稠密连接网络（DenseNet）\n",
    "\n",
    "ResNet极大地改变了如何参数化深层网络中函数的观点。\n",
    "*稠密连接网络* (DenseNet） :cite:`Huang.Liu.Van-Der-Maaten.ea.2017` 在某种程度上是 ResNet 的逻辑扩展。让我们先从数学上了解一下。\n",
    "\n",
    "\n",
    "## 7.7.1. 从ResNet到DenseNet\n",
    "\n",
    "回想一下任意函数的泰勒展开式（Taylor expansion），它把这个函数分解成越来越高阶的项。在 $x$ 接近 0 时，\n",
    "\n",
    "$$f(x) = f(0) + f'(0) x + \\frac{f''(0)}{2!}  x^2 + \\frac{f'''(0)}{3!}  x^3 + \\ldots.$$\n",
    "\n",
    "同样，ResNet 将函数展开为\n",
    "\n",
    "$$f(\\mathbf{x}) = \\mathbf{x} + g(\\mathbf{x}).$$\n",
    "\n",
    "也就是说，ResNet 将 $f$ 分解为两部分：一个简单的线性项和一个更复杂的非线性项。\n",
    "那么再向前拓展一步，如果我们想将 $f$ 拓展成超过两部分的信息呢？\n",
    "一种方案便是 DenseNet。\n",
    "\n",
    "![ResNet（左）与 DenseNet（右）在跨层连接上的主要区别：使用相加和使用连结。](../img/densenet-block.svg)\n",
    ":label:`fig_densenet_block`\n",
    "\n",
    "如 :numref:`fig_densenet_block` 所示，ResNet 和 DenseNet 的关键区别在于，DenseNet 输出是*连接*（用图中的 $[,]$ 表示）而不是如 ResNet 的简单相加。\n",
    "因此，在应用越来越复杂的函数序列后，我们执行从 $\\mathbf{x}$ 到其展开式的映射：\n",
    "\n",
    "$$\\mathbf{x} \\to \\left[\n",
    "\\mathbf{x},\n",
    "f_1(\\mathbf{x}),\n",
    "f_2([\\mathbf{x}, f_1(\\mathbf{x})]), f_3([\\mathbf{x}, f_1(\\mathbf{x}), f_2([\\mathbf{x}, f_1(\\mathbf{x})])]), \\ldots\\right].$$\n",
    "\n",
    "最后，将这些展开式结合到多层感知机中，再次减少特征的数量。\n",
    "实现起来非常简单：我们不需要添加术语，而是将它们连接起来。\n",
    "DenseNet 这个名字由变量之间的“稠密连接”而得来，最后一层与之前的所有层紧密相连。\n",
    "稠密连接如 :numref:`fig_densenet` 所示。\n",
    "\n",
    "![稠密连接。](../img/densenet.svg)\n",
    ":label:`fig_densenet`\n",
    "\n",
    "稠密网络主要由 2 部分构成： *稠密块*（dense block）和 *过渡层* （transition layer）。\n",
    "前者定义如何连接输入和输出，而后者则控制通道数量，使其不会太复杂。\n",
    "\n",
    "\n",
    "## (**7.7.2. 稠密块体**)\n",
    "\n",
    "DenseNet 使用了 ResNet 改良版的“批量归一化、激活和卷积”结构（参见 :numref:`sec_resnet` 中的练习）。\n",
    "我们首先实现一下这个结构。\n"
   ]
  },
  {
   "cell_type": "code",
   "execution_count": 23,
   "metadata": {
    "collapsed": false
   },
   "outputs": [],
   "source": [
    "import paddle\n",
    "import paddle.nn as nn\n",
    "import numpy as np\n",
    "\n",
    "paddle.disable_static()\n",
    "\n",
    "class BNConv(nn.Layer):\n",
    "    def __init__(self, num_channels, num_filters):\n",
    "        super(BNConv, self).__init__()\n",
    "        model = [\n",
    "            nn.BatchNorm2D(num_channels),\n",
    "            nn.ReLU(),\n",
    "            nn.Conv2D(num_channels, num_filters, 3, stride=1, padding=1)\n",
    "        ]\n",
    "        self.model = nn.Sequential(*model)\n",
    "    def forward(self, X):\n",
    "        return self.model(X)"
   ]
  },
  {
   "cell_type": "markdown",
   "metadata": {
    "collapsed": false
   },
   "source": [
    "一个*稠密块*由多个卷积块组成，每个卷积块使用相同数量的输出信道。\n",
    "然而，在前向传播中，我们将每个卷积块的输入和输出在通道维上连结。\n"
   ]
  },
  {
   "cell_type": "code",
   "execution_count": 24,
   "metadata": {
    "collapsed": false
   },
   "outputs": [],
   "source": [
    "class DenseBlock(nn.Layer):\n",
    "    def __init__(self, num_channels, num_layers, growth_rate):\n",
    "        super(DenseBlock, self).__init__()\n",
    "        self.dense_blocks = []\n",
    "        for i in range(num_layers):\n",
    "            block = self.add_sublayer(str(i), BNConv(num_channels + i * growth_rate, growth_rate))\n",
    "            self.dense_blocks.append(block)\n",
    "    def forward(self, X):\n",
    "        for block in self.dense_blocks:\n",
    "            X = paddle.concat([X, block(X)], axis=1)\n",
    "        return X"
   ]
  },
  {
   "cell_type": "markdown",
   "metadata": {
    "collapsed": false
   },
   "source": [
    "在下面的例子中，我们[**定义一个**]有 2 个输出通道数为 10 的 (**`DenseBlock`**)。\n",
    "使用通道数为 3 的输入时，我们会得到通道数为 $3+2\\times 10=23$ 的输出。\n",
    "卷积块的通道数控制了输出通道数相对于输入通道数的增长，因此也被称为*增长率*（growth rate）。\n"
   ]
  },
  {
   "cell_type": "code",
   "execution_count": 25,
   "metadata": {
    "collapsed": false
   },
   "outputs": [
    {
     "name": "stdout",
     "output_type": "stream",
     "text": [
      "[4, 23, 8, 8]\n"
     ]
    }
   ],
   "source": [
    "with paddle.fluid.dygraph.guard(paddle.fluid.cpu_places()[0]):\n",
    "    blk = DenseBlock(3, 2, 10)\n",
    "    X = paddle.to_tensor(np.random.uniform(-1., 1., [4, 3, 8, 8]).astype('float32'))\n",
    "    Y = blk(X)\n",
    "    print(Y.shape)"
   ]
  },
  {
   "cell_type": "markdown",
   "metadata": {
    "collapsed": false
   },
   "source": [
    "## [**7.7.3. 过渡层**]\n",
    "\n",
    "由于每个稠密块都会带来通道数的增加，使用过多则会过于复杂化模型。\n",
    "而过渡层可以用来控制模型复杂度。\n",
    "它通过 $1\\times 1$ 卷积层来减小通道数，并使用步幅为 2 的平均池化层减半高和宽，从而进一步降低模型复杂度。\n"
   ]
  },
  {
   "cell_type": "code",
   "execution_count": 26,
   "metadata": {
    "collapsed": false
   },
   "outputs": [],
   "source": [
    "class TransitionLayer(nn.Layer):\n",
    "    def __init__(self, num_channels, num_filters):\n",
    "        super(TransitionLayer, self).__init__()\n",
    "        model = [\n",
    "            nn.BatchNorm2D(num_channels),\n",
    "            nn.ReLU(),\n",
    "            nn.Conv2D(num_channels, num_filters, 1, stride=1),\n",
    "            nn.MaxPool2D(kernel_size=2, stride=2)\n",
    "        ]\n",
    "        self.model = nn.Sequential(*model)\n",
    "    def forward(self, X):\n",
    "        return self.model(X)"
   ]
  },
  {
   "cell_type": "markdown",
   "metadata": {
    "collapsed": false
   },
   "source": [
    "对上一个例子中稠密块的输出[**使用**]通道数为 10 的[**过渡层**]。\n",
    "此时输出的通道数减为 10，高和宽均减半。\n"
   ]
  },
  {
   "cell_type": "code",
   "execution_count": 27,
   "metadata": {
    "collapsed": false
   },
   "outputs": [
    {
     "name": "stdout",
     "output_type": "stream",
     "text": [
      "[4, 10, 4, 4]\n"
     ]
    }
   ],
   "source": [
    "with paddle.fluid.dygraph.guard(paddle.fluid.cpu_places()[0]):\n",
    "    blk = TransitionLayer(23, 10)\n",
    "    Y = blk(Y)\n",
    "    print(Y.shape)"
   ]
  },
  {
   "cell_type": "markdown",
   "metadata": {
    "collapsed": false
   },
   "source": [
    "## [**7.7.4. DenseNet模型**]\n",
    "\n",
    "我们来构造 DenseNet 模型。DenseNet 首先使用同 ResNet 一样的单卷积层和最大池化层。\n"
   ]
  },
  {
   "cell_type": "code",
   "execution_count": 29,
   "metadata": {
    "collapsed": false
   },
   "outputs": [],
   "source": [
    "model = [\n",
    "            nn.Conv2D(1, 64, 7, stride=2, padding=3),\n",
    "            nn.BatchNorm2D(64),\n",
    "            nn.ReLU(),\n",
    "            nn.MaxPool2D(kernel_size=3, stride=2, padding=1)\n",
    "        ]"
   ]
  },
  {
   "cell_type": "markdown",
   "metadata": {
    "collapsed": false
   },
   "source": [
    "接下来，类似于 ResNet 使用的 4 个残差块，DenseNet 使用的是 4 个稠密块。\n",
    "与 ResNet 类似，我们可以设置每个稠密块使用多少个卷积层。\n",
    "这里我们设成 4，从而与 :numref:`sec_resnet` 的 ResNet-18 保持一致。\n",
    "稠密块里的卷积层通道数（即增长率）设为 32，所以每个稠密块将增加 128 个通道。\n",
    "\n",
    "在每个模块之间，ResNet 通过步幅为 2 的残差块减小高和宽，DenseNet 则使用过渡层来减半高和宽，并减半通道数。\n"
   ]
  },
  {
   "cell_type": "code",
   "execution_count": 31,
   "metadata": {
    "collapsed": false
   },
   "outputs": [],
   "source": [
    "num_channels, growth_rate = 64, 32  # num_channels为当前的通道数\n",
    "# num_convs_in_dense_blocks = [4, 4, 4, 4]\n",
    "num_convs_in_dense_blocks = [4, 4]\n",
    "for i, num_convs in enumerate(num_convs_in_dense_blocks):\n",
    "    model += [DenseBlock(num_channels, num_convs, growth_rate)]\n",
    "    # 上一个稠密块的输出通道数\n",
    "    num_channels += num_convs * growth_rate\n",
    "    # 在稠密块之间加入通道数减半的过渡层\n",
    "    if i != len(num_convs_in_dense_blocks) - 1:\n",
    "        model += [TransitionLayer(num_channels, num_channels // 2)]\n",
    "        num_channels //= 2"
   ]
  },
  {
   "cell_type": "markdown",
   "metadata": {
    "collapsed": false
   },
   "source": [
    "与 ResNet 类似，最后接上全局池化层和全连接层来输出结果。\n"
   ]
  },
  {
   "cell_type": "code",
   "execution_count": 34,
   "metadata": {
    "collapsed": false
   },
   "outputs": [
    {
     "name": "stdout",
     "output_type": "stream",
     "text": [
      "[4, 10]\n"
     ]
    }
   ],
   "source": [
    "class DenseNet(nn.Layer):\n",
    "    def __init__(self, num_classes=10):\n",
    "        super(DenseNet, self).__init__()\n",
    "\n",
    "        # DenseNet首先使用同ResNet一样的单卷积层和最大池化层。\n",
    "        model = [\n",
    "            nn.Conv2D(1, 64, 7, stride=2, padding=3),\n",
    "            nn.BatchNorm2D(64),\n",
    "            nn.ReLU(),\n",
    "            nn.MaxPool2D(kernel_size=3, stride=2, padding=1)\n",
    "        ]\n",
    "\n",
    "        # 类似于ResNet接下来使用的4个残差块，DenseNet使用的是4个稠密块。\n",
    "        # 同ResNet一样，我们可以设置每个稠密块使用多少个卷积层。\n",
    "        # 这里我们设成4，从而与上一节的ResNet-18保持一致。\n",
    "        # 稠密块里的卷积层通道数（即增长率）设为32，所以每个稠密块将增加128个通道。\n",
    "        # ResNet里通过步幅为2的残差块在每个模块之间减小高和宽。这里我们则使用过渡层来减半高和宽，并减半通道数。\n",
    "        num_channels, growth_rate = 64, 32  # num_channels为当前的通道数\n",
    "        num_convs_in_dense_blocks = [4, 4, 4, 4]\n",
    "        for i, num_convs in enumerate(num_convs_in_dense_blocks):\n",
    "            model += [DenseBlock(num_channels, num_convs, growth_rate)]\n",
    "            # 上一个稠密块的输出通道数\n",
    "            num_channels += num_convs * growth_rate\n",
    "            # 在稠密块之间加入通道数减半的过渡层\n",
    "            if i != len(num_convs_in_dense_blocks) - 1:\n",
    "                model += [TransitionLayer(num_channels, num_channels // 2)]\n",
    "                num_channels //= 2\n",
    "\n",
    "        # 同ResNet一样，最后接上全局池化层和全连接层来输出。\n",
    "        model += [\n",
    "            nn.AdaptiveAvgPool2D(output_size=1),\n",
    "            nn.Flatten(start_axis=1, stop_axis=-1),\n",
    "            nn.Linear(num_channels, num_classes),\n",
    "        ]\n",
    "        self.model = nn.Sequential(*model)\n",
    "    def forward(self, X):\n",
    "        Y = self.model(X)\n",
    "        return Y\n",
    "\n",
    "dn = DenseNet(10)\n",
    "X = paddle.to_tensor(np.random.uniform(-1., 1., [4, 1, 96, 96]).astype('float32'))\n",
    "Y = dn(X)\n",
    "print(Y.shape)"
   ]
  },
  {
   "cell_type": "markdown",
   "metadata": {
    "collapsed": false
   },
   "source": [
    "## [**7.7.5. 训练模型**]\n",
    "\n",
    "由于这里使用了比较深的网络，本节里我们将输入高和宽从 224 降到 96 来简化计算。\n"
   ]
  },
  {
   "cell_type": "code",
   "execution_count": 36,
   "metadata": {
    "collapsed": false
   },
   "outputs": [
    {
     "name": "stdout",
     "output_type": "stream",
     "text": [
      "The loss value printed in the log is the current step, and the metric is the average value of previous steps.\n",
      "Epoch 1/2\n",
      "step 100/938 - loss: 0.3307 - acc_top1: 0.7370 - acc_top5: 0.9759 - 33ms/step\n",
      "step 200/938 - loss: 0.3445 - acc_top1: 0.7860 - acc_top5: 0.9861 - 33ms/step\n",
      "step 300/938 - loss: 0.3763 - acc_top1: 0.8104 - acc_top5: 0.9895 - 34ms/step\n",
      "step 400/938 - loss: 0.3491 - acc_top1: 0.8245 - acc_top5: 0.9917 - 34ms/step\n",
      "step 500/938 - loss: 0.3414 - acc_top1: 0.8347 - acc_top5: 0.9931 - 34ms/step\n",
      "step 600/938 - loss: 0.1988 - acc_top1: 0.8429 - acc_top5: 0.9940 - 34ms/step\n",
      "step 700/938 - loss: 0.2294 - acc_top1: 0.8494 - acc_top5: 0.9946 - 34ms/step\n",
      "step 800/938 - loss: 0.4946 - acc_top1: 0.8552 - acc_top5: 0.9952 - 34ms/step\n",
      "step 900/938 - loss: 0.1301 - acc_top1: 0.8590 - acc_top5: 0.9956 - 34ms/step\n",
      "step 938/938 - loss: 0.3350 - acc_top1: 0.8600 - acc_top5: 0.9957 - 34ms/step\n",
      "Eval begin...\n",
      "step 100/157 - loss: 0.1935 - acc_top1: 0.8892 - acc_top5: 0.9973 - 20ms/step\n",
      "step 157/157 - loss: 0.1801 - acc_top1: 0.8930 - acc_top5: 0.9983 - 20ms/step\n",
      "Eval samples: 10000\n",
      "Epoch 2/2\n",
      "step 100/938 - loss: 0.3488 - acc_top1: 0.9020 - acc_top5: 0.9995 - 34ms/step\n",
      "step 200/938 - loss: 0.3312 - acc_top1: 0.9058 - acc_top5: 0.9991 - 34ms/step\n",
      "step 300/938 - loss: 0.1732 - acc_top1: 0.9056 - acc_top5: 0.9993 - 34ms/step\n",
      "step 400/938 - loss: 0.1036 - acc_top1: 0.9069 - acc_top5: 0.9992 - 34ms/step\n",
      "step 500/938 - loss: 0.2655 - acc_top1: 0.9083 - acc_top5: 0.9991 - 34ms/step\n",
      "step 600/938 - loss: 0.2870 - acc_top1: 0.9077 - acc_top5: 0.9992 - 34ms/step\n",
      "step 700/938 - loss: 0.1253 - acc_top1: 0.9072 - acc_top5: 0.9992 - 35ms/step\n",
      "step 800/938 - loss: 0.3181 - acc_top1: 0.9079 - acc_top5: 0.9992 - 35ms/step\n",
      "step 900/938 - loss: 0.2520 - acc_top1: 0.9083 - acc_top5: 0.9992 - 34ms/step\n",
      "step 938/938 - loss: 0.1831 - acc_top1: 0.9083 - acc_top5: 0.9992 - 34ms/step\n",
      "Eval begin...\n",
      "step 100/157 - loss: 0.3239 - acc_top1: 0.8900 - acc_top5: 0.9986 - 20ms/step\n",
      "step 157/157 - loss: 0.2208 - acc_top1: 0.8902 - acc_top5: 0.9988 - 20ms/step\n",
      "Eval samples: 10000\n"
     ]
    }
   ],
   "source": [
    "import paddle\n",
    "import paddle.vision.transforms as T\n",
    "from paddle.vision.datasets import FashionMNIST\n",
    "\n",
    "# 数据集处理\n",
    "transform = T.Compose([\n",
    "    T.Resize(96),\n",
    "    T.Transpose(),\n",
    "    T.Normalize([127.5], [127.5]),\n",
    "])\n",
    "train_dataset = FashionMNIST(mode='train', transform=transform)\n",
    "val_dataset = FashionMNIST(mode='test', transform=transform)\n",
    "# 模型定义\n",
    "model = paddle.Model(DenseNet(10))\n",
    "# 设置训练模型所需的optimizer, loss, metric\n",
    "model.prepare(\n",
    "    paddle.optimizer.Adam(learning_rate=0.001, parameters=model.parameters()),\n",
    "    paddle.nn.CrossEntropyLoss(),\n",
    "    paddle.metric.Accuracy(topk=(1, 5)))\n",
    "# 启动训练、评估\n",
    "model.fit(train_dataset, val_dataset, epochs=2, batch_size=64, log_freq=100)"
   ]
  },
  {
   "cell_type": "markdown",
   "metadata": {
    "collapsed": false
   },
   "source": [
    "## 7.7.6. 小结\n",
    "\n",
    "* 在跨层连接上，不同于 ResNet 中将输入与输出相加，稠密连接网络（DenseNet）在通道维上连结输入与输出。\n",
    "* DenseNet 的主要构建模块是稠密块和过渡层。\n",
    "* 在构建 DenseNet 时，我们需要通过添加过渡层来控制网络的维数，从而再次减少信道的数量。\n",
    "\n",
    "\n",
    "## 7.7.7. 练习\n",
    "\n",
    "1. 为什么我们在过渡层使用平均池化层而不是最大池化层？\n",
    "1. DenseNet 的优点之一是其模型参数比 ResNet 小。为什么呢？\n",
    "1. DenseNet 一个诟病的问题是内存或显存消耗过多。\n",
    "    1. 真的是这样吗？可以把输入形状换成 $224 \\times 224$ ，来看看实际的显存消耗。\n",
    "    1. 你能想出另一种方法来减少显存消耗吗？你需要如何改变框架？\n",
    "1. 实现 DenseNet 论文 :cite:`Huang.Liu.Van-Der-Maaten.ea.2017` 表 1 所示的不同 DenseNet 版本。\n",
    "1. 应用DenseNet的思想设计一个基于多层感知机的模型。将其应用于 :numref:`sec_kaggle_house` 中的房价预测任务。\n"
   ]
  },
  {
   "cell_type": "markdown",
   "metadata": {
    "collapsed": false
   },
   "source": [
    "[Discussions](https://discuss.d2l.ai/t/1880)\n"
   ]
  }
 ],
 "metadata": {
  "kernelspec": {
   "display_name": "PaddlePaddle 2.1.0 (Python 3.5)",
   "language": "python",
   "name": "py35-paddle1.2.0"
  },
  "language_info": {
   "codemirror_mode": {
    "name": "ipython",
    "version": 3
   },
   "file_extension": ".py",
   "mimetype": "text/x-python",
   "name": "python",
   "nbconvert_exporter": "python",
   "pygments_lexer": "ipython3",
   "version": "3.7.4"
  }
 },
 "nbformat": 4,
 "nbformat_minor": 1
}
